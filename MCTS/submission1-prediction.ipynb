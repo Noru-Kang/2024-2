{
 "cells": [
  {
   "cell_type": "code",
   "execution_count": 1,
   "id": "130298c8",
   "metadata": {
    "_cell_guid": "b1076dfc-b9ad-4769-8c92-a6c4dae69d19",
    "_uuid": "8f2839f25d086af736a60e9eeb907d3b93b6e0e5",
    "execution": {
     "iopub.execute_input": "2024-11-29T17:45:35.341017Z",
     "iopub.status.busy": "2024-11-29T17:45:35.340425Z",
     "iopub.status.idle": "2024-11-29T17:45:41.027985Z",
     "shell.execute_reply": "2024-11-29T17:45:41.026329Z"
    },
    "papermill": {
     "duration": 5.697139,
     "end_time": "2024-11-29T17:45:41.032320",
     "exception": false,
     "start_time": "2024-11-29T17:45:35.335181",
     "status": "completed"
    },
    "tags": []
   },
   "outputs": [],
   "source": [
    "import polars as pl\n",
    "import pandas as pd\n",
    "import numpy as np\n",
    "import matplotlib.pyplot as plt\n",
    "import datetime\n",
    "import os\n",
    "from colorama import Fore, Style\n",
    "import lightgbm, xgboost, catboost\n",
    "import pickle\n",
    "import joblib\n",
    "\n",
    "from sklearn.base import clone, BaseEstimator, TransformerMixin\n",
    "from sklearn.model_selection import GroupKFold, GroupShuffleSplit, cross_val_score, cross_val_predict\n",
    "from sklearn.preprocessing import OneHotEncoder, OrdinalEncoder, StandardScaler, PolynomialFeatures, SplineTransformer\n",
    "from sklearn.kernel_approximation import Nystroem\n",
    "from sklearn.pipeline import make_pipeline\n",
    "from sklearn.compose import ColumnTransformer\n",
    "from sklearn.dummy import DummyRegressor\n",
    "from sklearn.linear_model import LinearRegression, Ridge\n",
    "from sklearn.neighbors import KNeighborsRegressor\n",
    "from sklearn.ensemble import RandomForestRegressor, ExtraTreesRegressor, HistGradientBoostingRegressor, BaggingRegressor\n",
    "from sklearn.inspection import permutation_importance\n",
    "from sklearn.metrics import mean_squared_error\n",
    "from sklearn.feature_extraction.text import CountVectorizer,TfidfVectorizer#word2vec feature\n",
    "\n",
    "import dill#serialize and deserialize objects (such as saving and loading tree models)\n",
    "import re#python's built-in regular expressions.\n",
    "import gc#rubbish collection\n",
    "import warnings#avoid some negligible errors\n",
    "#The filterwarnings () method is used to set warning filters, which can control the output method and level of warning information.\n",
    "warnings.filterwarnings('ignore')\n",
    "\n",
    "import random#provide some function to generate random_seed.\n",
    "#set random seed,to make sure model can be recurrented.\n",
    "def seed_everything(seed):\n",
    "    np.random.seed(seed)#numpy's random seed\n",
    "    random.seed(seed)#python built-in random seed\n",
    "seed_everything(seed=2024)\n",
    "\n",
    "pd.options.mode.chained_assignment = \"raise\"\n",
    "\n",
    "saved_models, oof_pred = {}, {}\n",
    "\n",
    "\n"
   ]
  },
  {
   "cell_type": "code",
   "execution_count": 2,
   "id": "41b818b1",
   "metadata": {
    "execution": {
     "iopub.execute_input": "2024-11-29T17:45:41.041748Z",
     "iopub.status.busy": "2024-11-29T17:45:41.041111Z",
     "iopub.status.idle": "2024-11-29T17:45:41.075514Z",
     "shell.execute_reply": "2024-11-29T17:45:41.073921Z"
    },
    "papermill": {
     "duration": 0.0433,
     "end_time": "2024-11-29T17:45:41.078951",
     "exception": false,
     "start_time": "2024-11-29T17:45:41.035651",
     "status": "completed"
    },
    "tags": []
   },
   "outputs": [],
   "source": [
    "def predict (test: pl.DataFrame, sample_sub: pl.DataFrame):\n",
    " \n",
    "    #------ preprocess 전처리함수\n",
    "    def preprocess(df_polars):\n",
    "        \"\"\"Convert the polars dataframe to pandas; extract target and groups if it is the training dataframe.\"\"\"\n",
    "        df = df_polars.with_columns(\n",
    "            pl.col('agent1').str.extract(r'MCTS-(.*)-(.*)-(.*)-(.*)', 1).alias('p1_selection'),\n",
    "            pl.col('agent1').str.extract(r'MCTS-(.*)-(.*)-(.*)-(.*)', 2).alias('p1_exploration').cast(pl.Float32),\n",
    "            pl.col('agent1').str.extract(r'MCTS-(.*)-(.*)-(.*)-(.*)', 3).alias('p1_playout'),\n",
    "            pl.col('agent1').str.extract(r'MCTS-(.*)-(.*)-(.*)-(.*)', 4).alias('p1_bounds'),\n",
    "            pl.col('agent2').str.extract(r'MCTS-(.*)-(.*)-(.*)-(.*)', 1).alias('p2_selection'),\n",
    "            pl.col('agent2').str.extract(r'MCTS-(.*)-(.*)-(.*)-(.*)', 2).alias('p2_exploration').cast(pl.Float32),\n",
    "            pl.col('agent2').str.extract(r'MCTS-(.*)-(.*)-(.*)-(.*)', 3).alias('p2_playout'),\n",
    "            pl.col('agent2').str.extract(r'MCTS-(.*)-(.*)-(.*)-(.*)', 4).alias('p2_bounds')\n",
    "        ).drop(\n",
    "            [\n",
    "             'num_wins_agent1', 'num_draws_agent1', 'num_losses_agent1'],\n",
    "            strict=False\n",
    "        ).to_pandas()\n",
    "    \n",
    "        # Feature engineering\n",
    "        df['area'] = df['NumRows'] * df['NumColumns']\n",
    "        df['row_equal_col'] = (df['NumColumns'] == df['NumRows']).astype(np.int8)\n",
    "        df['Playouts/Moves'] = df['PlayoutsPerSecond'] / (df['MovesPerSecond'] + 1e-15)\n",
    "        df['EfficiencyPerPlayout'] = df['MovesPerSecond'] / (df['PlayoutsPerSecond'] + 1e-15)\n",
    "        df['TurnsDurationEfficiency'] = df['DurationActions'] / (df['DurationTurnsStdDev'] + 1e-15)\n",
    "        df['AdvantageBalanceRatio'] = df['AdvantageP1'] / (df['Balance'] + 1e-15)\n",
    "        df['ActionTimeEfficiency'] = df['DurationActions'] / (df['MovesPerSecond'] + 1e-15)\n",
    "        df['StandardizedTurnsEfficiency'] = df['DurationTurnsStdDev'] / (df['DurationActions'] + 1e-15)\n",
    "        df['AdvantageTimeImpact'] = df['AdvantageP1'] / (df['DurationActions'] + 1e-15)\n",
    "        df['DurationToComplexityRatio'] = df['DurationActions'] / (df['StateTreeComplexity'] + 1e-15)\n",
    "        df['NormalizedGameTreeComplexity'] = df['GameTreeComplexity'] / (df['StateTreeComplexity'] + 1e-15)\n",
    "        df['ComplexityBalanceInteraction'] = df['Balance'] * df['GameTreeComplexity']\n",
    "        df['OverallComplexity'] = df['StateTreeComplexity'] + df['GameTreeComplexity']\n",
    "    \n",
    "        # Handle outliers\n",
    "        print(\"Dealing with outliers\")\n",
    "        df['PlayoutsPerSecond'] = df['PlayoutsPerSecond'].clip(0, 25000)\n",
    "        df['MovesPerSecond'] = df['MovesPerSecond'].clip(0, 1000000)\n",
    "    \n",
    "        return df\n",
    "\n",
    "\n",
    "    ###############################\n",
    "    # Preprocess함수 확인\n",
    "    test = preprocess(test)\n",
    "    test['p_selection'] = (test.p1_selection.astype(str) + '-' + test.p2_selection.astype(str)).astype('category')\n",
    "    test['p_exploration'] = test.p1_exploration - test.p2_exploration\n",
    "    test['p_playout'] = (test.p1_playout.astype(str) + '-' + test.p2_playout.astype(str)).astype('category')\n",
    "    \n",
    "    print(\"preprocess succeed\")\n",
    "    print(test.columns)\n",
    "\n",
    "    \n",
    "    ###############################\n",
    "    # test data 원핫인코딩\n",
    "\n",
    "    # encoder 불러오기\n",
    "    encoder_path = \"/kaggle/input/submission1-finalmodel/onehot_encoder.pkl\"  # 저장된 경로\n",
    "    encoder = joblib.load(encoder_path)\n",
    "    print(\"OneHotEncoder loaded successfully.\")\n",
    "\n",
    "    # 인코딩할 데이터 슬라이싱\n",
    "    categorical_columns = ['p1_selection', 'p2_selection', 'p1_playout', 'p2_playout']\n",
    "    test_categorical_subset = test[categorical_columns]\n",
    "\n",
    "    # 인코딩 수행\n",
    "    test_encoded = encoder.transform(test_categorical_subset)  # train 데이터에서 fit한 encoder로 transform\n",
    "    encoded_columns = encoder.get_feature_names_out(categorical_columns)  # ensure encoded column names\n",
    "    test_encoded = pd.DataFrame(test_encoded, columns=encoded_columns, index=test.index)\n",
    "\n",
    "    for col in encoded_columns:\n",
    "        if col not in test_encoded.columns:\n",
    "            test_encoded[col] = 0  # 누락된 컬럼은 0으로 채움\n",
    "\n",
    "    # 데이터 붙이기\n",
    "    test = pd.concat([test.reset_index(drop=True), test_encoded.reset_index(drop=True)], axis=1)\n",
    "\n",
    "    print(\"onehot incoding succeed\")\n",
    "    print(test.columns)\n",
    "\n",
    "    #------------------------Fit-----------------------\n",
    "    # Load model\n",
    "    model_path = \"/kaggle/input/submission1-finalmodel/stacking_model.pkl\"\n",
    "    loaded_model = joblib.load(model_path)\n",
    "    print(\"Model loaded successfully.\")\n",
    "    \n",
    "    \n",
    "    # Train 데이터의 피처 이름 가져오기\n",
    "    train_features = loaded_model.feature_names_in_\n",
    "    test_aligned = test[train_features]\n",
    "\n",
    "    # Test 데이터 정렬 (누락된 피처는 0으로 채움)\n",
    "    test_aligned = test_aligned.reindex(columns=train_features, fill_value=0)\n",
    "    \n",
    "    # Predict\n",
    "    preds = loaded_model.predict(test_aligned)\n",
    "\n",
    "    # Add predictions to submission\n",
    "    sample_sub = sample_sub.with_columns(pl.Series('utility_agent1', preds))\n",
    "    \n",
    "    return sample_sub"
   ]
  },
  {
   "cell_type": "code",
   "execution_count": 3,
   "id": "0c082068",
   "metadata": {
    "execution": {
     "iopub.execute_input": "2024-11-29T17:45:41.089993Z",
     "iopub.status.busy": "2024-11-29T17:45:41.089099Z",
     "iopub.status.idle": "2024-11-29T17:45:41.094808Z",
     "shell.execute_reply": "2024-11-29T17:45:41.093090Z"
    },
    "papermill": {
     "duration": 0.014256,
     "end_time": "2024-11-29T17:45:41.097375",
     "exception": false,
     "start_time": "2024-11-29T17:45:41.083119",
     "status": "completed"
    },
    "tags": []
   },
   "outputs": [],
   "source": [
    "# # 로컬 환경에서 제출 전 실행해보는 코드\n",
    "# test = pl.read_csv('/kaggle/input/um-game-playing-strength-of-mcts-variants/test.csv')\n",
    "# sample_sub = pl.DataFrame()\n",
    "# predict(test, sample_sub)"
   ]
  },
  {
   "cell_type": "code",
   "execution_count": 4,
   "id": "d11a4035",
   "metadata": {
    "execution": {
     "iopub.execute_input": "2024-11-29T17:45:41.106247Z",
     "iopub.status.busy": "2024-11-29T17:45:41.105729Z",
     "iopub.status.idle": "2024-11-29T17:45:41.412359Z",
     "shell.execute_reply": "2024-11-29T17:45:41.411130Z"
    },
    "papermill": {
     "duration": 0.314768,
     "end_time": "2024-11-29T17:45:41.415247",
     "exception": false,
     "start_time": "2024-11-29T17:45:41.100479",
     "status": "completed"
    },
    "tags": []
   },
   "outputs": [],
   "source": [
    "import kaggle_evaluation.mcts_inference_server"
   ]
  },
  {
   "cell_type": "code",
   "execution_count": 5,
   "id": "52649335",
   "metadata": {
    "execution": {
     "iopub.execute_input": "2024-11-29T17:45:41.423529Z",
     "iopub.status.busy": "2024-11-29T17:45:41.422929Z",
     "iopub.status.idle": "2024-11-29T17:45:42.066346Z",
     "shell.execute_reply": "2024-11-29T17:45:42.065073Z"
    },
    "papermill": {
     "duration": 0.649934,
     "end_time": "2024-11-29T17:45:42.068647",
     "exception": false,
     "start_time": "2024-11-29T17:45:41.418713",
     "status": "completed"
    },
    "tags": []
   },
   "outputs": [
    {
     "name": "stdout",
     "output_type": "stream",
     "text": [
      "Dealing with outliers\n",
      "preprocess succeed\n",
      "Index(['Id', 'GameRulesetName', 'agent1', 'agent2', 'Properties', 'Format',\n",
      "       'Time', 'Discrete', 'Realtime', 'Turns',\n",
      "       ...\n",
      "       'ActionTimeEfficiency', 'StandardizedTurnsEfficiency',\n",
      "       'AdvantageTimeImpact', 'DurationToComplexityRatio',\n",
      "       'NormalizedGameTreeComplexity', 'ComplexityBalanceInteraction',\n",
      "       'OverallComplexity', 'p_selection', 'p_exploration', 'p_playout'],\n",
      "      dtype='object', length=834)\n",
      "OneHotEncoder loaded successfully.\n",
      "onehot incoding succeed\n",
      "Index(['Id', 'GameRulesetName', 'agent1', 'agent2', 'Properties', 'Format',\n",
      "       'Time', 'Discrete', 'Realtime', 'Turns',\n",
      "       ...\n",
      "       'p1_selection_UCB1', 'p1_selection_UCB1GRAVE', 'p1_selection_UCB1Tuned',\n",
      "       'p2_selection_UCB1', 'p2_selection_UCB1GRAVE', 'p2_selection_UCB1Tuned',\n",
      "       'p1_playout_NST', 'p1_playout_Random200', 'p2_playout_NST',\n",
      "       'p2_playout_Random200'],\n",
      "      dtype='object', length=844)\n",
      "Model loaded successfully.\n",
      "[LightGBM] [Warning] Accuracy may be bad since you didn't explicitly set num_leaves OR 2^max_depth > num_leaves. (num_leaves=31).\n"
     ]
    }
   ],
   "source": [
    "inference_server = kaggle_evaluation.mcts_inference_server.MCTSInferenceServer(predict)\n",
    "\n",
    "if os.getenv('KAGGLE_IS_COMPETITION_RERUN'):\n",
    "    inference_server.serve()\n",
    "else:\n",
    "    inference_server.run_local_gateway(\n",
    "        (\n",
    "            '/kaggle/input/um-game-playing-strength-of-mcts-variants/test.csv',\n",
    "            '/kaggle/input/um-game-playing-strength-of-mcts-variants/sample_submission.csv'\n",
    "        )\n",
    "    )"
   ]
  },
  {
   "cell_type": "code",
   "execution_count": null,
   "id": "0dfd23fe",
   "metadata": {
    "papermill": {
     "duration": 0.002388,
     "end_time": "2024-11-29T17:45:42.073872",
     "exception": false,
     "start_time": "2024-11-29T17:45:42.071484",
     "status": "completed"
    },
    "tags": []
   },
   "outputs": [],
   "source": []
  },
  {
   "cell_type": "code",
   "execution_count": null,
   "id": "94e9bf54",
   "metadata": {
    "papermill": {
     "duration": 0.002543,
     "end_time": "2024-11-29T17:45:42.079234",
     "exception": false,
     "start_time": "2024-11-29T17:45:42.076691",
     "status": "completed"
    },
    "tags": []
   },
   "outputs": [],
   "source": []
  },
  {
   "cell_type": "code",
   "execution_count": null,
   "id": "542488ee",
   "metadata": {
    "papermill": {
     "duration": 0.002288,
     "end_time": "2024-11-29T17:45:42.084043",
     "exception": false,
     "start_time": "2024-11-29T17:45:42.081755",
     "status": "completed"
    },
    "tags": []
   },
   "outputs": [],
   "source": []
  }
 ],
 "metadata": {
  "kaggle": {
   "accelerator": "none",
   "dataSources": [
    {
     "databundleVersionId": 9515283,
     "sourceId": 70089,
     "sourceType": "competition"
    },
    {
     "sourceId": 210308855,
     "sourceType": "kernelVersion"
    }
   ],
   "dockerImageVersionId": 30787,
   "isGpuEnabled": false,
   "isInternetEnabled": false,
   "language": "python",
   "sourceType": "notebook"
  },
  "kernelspec": {
   "display_name": "Python 3",
   "language": "python",
   "name": "python3"
  },
  "language_info": {
   "codemirror_mode": {
    "name": "ipython",
    "version": 3
   },
   "file_extension": ".py",
   "mimetype": "text/x-python",
   "name": "python",
   "nbconvert_exporter": "python",
   "pygments_lexer": "ipython3",
   "version": "3.10.14"
  },
  "papermill": {
   "default_parameters": {},
   "duration": 10.938021,
   "end_time": "2024-11-29T17:45:43.010053",
   "environment_variables": {},
   "exception": null,
   "input_path": "__notebook__.ipynb",
   "output_path": "__notebook__.ipynb",
   "parameters": {},
   "start_time": "2024-11-29T17:45:32.072032",
   "version": "2.6.0"
  }
 },
 "nbformat": 4,
 "nbformat_minor": 5
}
